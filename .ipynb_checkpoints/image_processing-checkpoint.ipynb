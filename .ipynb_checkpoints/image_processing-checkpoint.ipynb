{
 "cells": [
  {
   "cell_type": "code",
   "execution_count": null,
   "id": "initial_id",
   "metadata": {
    "collapsed": true,
    "is_executing": true
   },
   "outputs": [],
   "source": [
    "import pandas as pd\n",
    "import numpy as np\n",
    "from PIL import Image\n",
    "from io import BytesIO\n",
    "from zipfile import ZipFile\n",
    "import sklearn\n",
    "\n",
    "from helper.helper import get_rgb, average_color, dominant_color"
   ]
  },
  {
   "cell_type": "code",
   "execution_count": null,
   "outputs": [],
   "source": [
    "reference_df=dominant_color('minecraft_blocks.xlsx')"
   ],
   "metadata": {
    "collapsed": false
   },
   "id": "e08436282f402716"
  },
  {
   "cell_type": "code",
   "execution_count": null,
   "outputs": [],
   "source": [
    "image_df=get_rgb('media/home.png')\n"
   ],
   "metadata": {
    "collapsed": false
   },
   "id": "ed2bc7dfb937501c"
  },
  {
   "cell_type": "code",
   "execution_count": null,
   "outputs": [],
   "source": [
    "# Create a sample reference DataFrame\n",
    "# reference_df = pd.DataFrame({\n",
    "#     'Name': ['acacia_leaves', 'acacia_log', 'acacia_planks', 'acacia_wood', 'ancient_debris'],\n",
    "#     'DominantColor': [(27, 68, 9), (85, 64, 52), (110, 59, 32), (71, 66, 60), (61, 41, 36)]\n",
    "# })\n",
    "# \n",
    "# # Create a sample image DataFrame\n",
    "# image_df = pd.DataFrame({\n",
    "#     0: [(0, 0, 0), (27, 68, 9), (85, 64, 52)],\n",
    "#     1: [(0, 0, 0), (110, 59, 32), (71, 66, 60)],\n",
    "#     2: [(0, 0, 0), (61, 41, 36), (88, 88, 89)]\n",
    "# })\n",
    "\n",
    "def closest_block(rgb):\n",
    "    distances = reference_df['DominantColor'].apply(lambda x: np.linalg.norm(np.array(x) - np.array(rgb)))\n",
    "    closest_index = distances.idxmin()\n",
    "    return reference_df.loc[closest_index, 'Name']\n",
    "\n",
    "# Apply the function to every cell in the image DataFrame\n",
    "result_df = image_df.applymap(closest_block)\n",
    "\n",
    "print(result_df)"
   ],
   "metadata": {
    "collapsed": false
   },
   "id": "23931e4d009c93a9"
  },
  {
   "cell_type": "code",
   "execution_count": null,
   "outputs": [],
   "source": [
    "result_df"
   ],
   "metadata": {
    "collapsed": false
   },
   "id": "15835a1bbd54452b"
  },
  {
   "cell_type": "code",
   "execution_count": null,
   "outputs": [],
   "source": [
    "import pandas as pd\n",
    "\n",
    "def generate_math_expression(df):\n",
    "    # Get the shape of the DataFrame\n",
    "    height, width = df.shape\n",
    "    conditions = []\n",
    "    \n",
    "    for y in range(height):\n",
    "        for x in range(width):\n",
    "            block_type = df.iloc[y, x]\n",
    "            if block_type:  # Assuming 0 or None for empty cells\n",
    "                condition = f\"(x=={x} && y=={y}?{block_type}:0)\"\n",
    "                conditions.append(condition)\n",
    "\n",
    "    math_expr = \" + \".join(conditions)\n",
    "    return f\"//g {math_expr}\"\n",
    "\n",
    "# Example usage with a dummy DataFrame\n",
    "data = {\n",
    "    0: [None, \"orange_wool\", None],\n",
    "    1: [\"orange_wool\", \"gold_block\", \"orange_wool\"],\n",
    "    2: [None, \"orange_wool\", None]\n",
    "}\n",
    "df = pd.DataFrame(data)\n",
    "\n",
    "command = generate_math_expression(df)\n",
    "print(command)\n"
   ],
   "metadata": {
    "collapsed": false
   },
   "id": "acb3f655edb57cd1"
  },
  {
   "cell_type": "code",
   "execution_count": null,
   "outputs": [],
   "source": [],
   "metadata": {
    "collapsed": false
   },
   "id": "76c1965cef64908f"
  }
 ],
 "metadata": {
  "kernelspec": {
   "name": "env",
   "language": "python",
   "display_name": "env"
  },
  "language_info": {
   "codemirror_mode": {
    "name": "ipython",
    "version": 2
   },
   "file_extension": ".py",
   "mimetype": "text/x-python",
   "name": "python",
   "nbconvert_exporter": "python",
   "pygments_lexer": "ipython2",
   "version": "2.7.6"
  }
 },
 "nbformat": 4,
 "nbformat_minor": 5
}
